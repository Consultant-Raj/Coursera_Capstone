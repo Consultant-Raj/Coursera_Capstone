{
 "cells": [
  {
   "cell_type": "markdown",
   "metadata": {},
   "source": [
    "# **Opening a restaurant in Singapore**"
   ]
  },
  {
   "cell_type": "markdown",
   "metadata": {},
   "source": [
    "## **1. Introduction**"
   ]
  },
  {
   "cell_type": "markdown",
   "metadata": {},
   "source": [
    "#### **1.1 Background Description**"
   ]
  },
  {
   "cell_type": "markdown",
   "metadata": {},
   "source": [
    "Singapore is a multicultural and bustling sovereign island city-state in southeast Asia. English is the main language although there are three other official langages: Malay, Chinese and Tamil. Singapore is very diverse culturally and has extensive ethnic cuisine.\n",
    "It is a major financial and shipping hub, consistently ranked the most expensive city to live in since 2013. [1]\n",
    "With a total land area of 725.1 km2  [2] and a population of 5,703,600 (as of a 2019 estimate) [3]  and is arguably scarce and generally costly. Despite these factors, Singapore has been ranked as the easiest place to do business for the past decade.[4]\n",
    "\n",
    "Tourism is a major industry and contributor to the economy, attracting 18.5 million international tourists in 2018, more than three times the population.[5] Singapore is the 5th most visited city in the world.[6]\n",
    "\n",
    "Its diversity of cuisine is definitely a reason to visit the country, due to its combination of convenience, variety, quality, and price.[7] Local food items generally relate to a particular ethnicity – Chinese, Malay and Indian; but the diversity of cuisine has increased further by the hybridisation and inclusion of different styles . \n",
    "\n",
    "Although the food scene includes hawker centres (open-air), food courts (air-conditioned), coffee shops (open-air with up to a dozen hawker stalls), cafes, fast food, simple kitchens, casual, celebrity and high-end restaurants.[8) "
   ]
  },
  {
   "cell_type": "markdown",
   "metadata": {},
   "source": [
    "#### **1.2 Project Objective** "
   ]
  },
  {
   "cell_type": "markdown",
   "metadata": {},
   "source": [
    "The objective of this project is to determine from a business and /or stakeholder point of view the type of restaurant (ie. type of cuisine) and its location that would in time give a desirable outcome.\n",
    "Although in the description section we described the food scene in Singapore as including a variety of establishments, for this project and for the sake of simplicity we will focus solely on food establishments that have been categorised as restaurants.\n",
    "Given that there exist around 4500 restaurants and that land area and cost of owning or leasing property is quite costly, it would be in the interest of an entrepreneur,  the owner of an existing business who wants to expand, and/ or a stakeholder looking to invest in a new restaurant to consider the various pertinent factors and possibilities before taking a decision. The factors that we will choose to consider in this decision making are by no means arbitrary, since as mentioned earlier, this will be done with simplicity in mind. Numerous other factors can and should be considered, checked for correlation ( perhaps using the Pearson correlation coefficient) and added if necessary to derive the best possible results."
   ]
  },
  {
   "cell_type": "markdown",
   "metadata": {},
   "source": [
    "#### **1.3 Factors to be Considered**"
   ]
  },
  {
   "cell_type": "markdown",
   "metadata": {},
   "source": [
    "The factors we will consider in this particular project will be:\n",
    "\n",
    " - **Location**\n",
    "\n",
    " - **Popularity**\n",
    "\n",
    " - **Type of cuisine**\n",
    "\n",
    " - **Neighbourhoods in Singapore**\n",
    "\n",
    " - **Costs of owning or leasing property**\n",
    "\n",
    " - **Towns and planning areas in Singapore**"
   ]
  },
  {
   "cell_type": "code",
   "execution_count": null,
   "metadata": {},
   "outputs": [],
   "source": []
  }
 ],
 "metadata": {
  "kernelspec": {
   "display_name": "Python",
   "language": "python",
   "name": "conda-env-python-py"
  },
  "language_info": {
   "codemirror_mode": {
    "name": "ipython",
    "version": 3
   },
   "file_extension": ".py",
   "mimetype": "text/x-python",
   "name": "python",
   "nbconvert_exporter": "python",
   "pygments_lexer": "ipython3",
   "version": "3.6.10"
  }
 },
 "nbformat": 4,
 "nbformat_minor": 4
}
