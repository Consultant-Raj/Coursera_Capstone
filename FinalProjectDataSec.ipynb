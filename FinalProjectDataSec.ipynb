{
 "cells": [
  {
   "cell_type": "markdown",
   "metadata": {},
   "source": [
    "# **Opening a restaurant in Singapore**"
   ]
  },
  {
   "cell_type": "markdown",
   "metadata": {},
   "source": [
    "## **2.Data**"
   ]
  },
  {
   "cell_type": "markdown",
   "metadata": {},
   "source": [
    "#### **2.1 Sources**"
   ]
  },
  {
   "cell_type": "markdown",
   "metadata": {},
   "source": [
    "We will use the following source for collecting the data we need:\n",
    "\n",
    " - **Location** - Foursquare\n",
    "\n",
    " - **Popularity** - Foursquare\n",
    "\n",
    " - **Types of cuisines** - Foursquare\n",
    "\n",
    " - **Neighbourhoods** in Singapore - Wikipedia\n",
    "\n",
    " - **Costs of owning or leasing property** - Wikipedia &  the Urban Redevelopment Authority website.\n",
    "\n",
    " - **Towns and planning areas in Singapore** - Wikipedia\n",
    " \n",
    "\n",
    "The data sets above can also be found in other databases or with other applications but as this project requires us to use the Foursquare API, we’ll stick with that."
   ]
  },
  {
   "cell_type": "markdown",
   "metadata": {},
   "source": [
    "#### **2.2 Description and Purpose**"
   ]
  },
  {
   "cell_type": "markdown",
   "metadata": {},
   "source": [
    "##### **Location**"
   ]
  },
  {
   "cell_type": "markdown",
   "metadata": {},
   "source": [
    "We will look at the locations of existing restaurants and how they are clustered. We could also look at the cost of owning or leasing property in those locations. Although we include location data, of noteworthiness is that as Singapore is a relatively small city-state the location of a food establishment might not be a very important factor since if a restaurant is good, it will be very probably become popular regardless of its location. "
   ]
  },
  {
   "cell_type": "markdown",
   "metadata": {},
   "source": [
    "##### **Popularity**"
   ]
  },
  {
   "cell_type": "markdown",
   "metadata": {},
   "source": [
    "For complete picture of popularity we will have to pull in much more data from different sources. Foursquare data will not give us a complete picture of how popular a particular restaurant but it will give us a rough idea which for now is sufficient. Foursquare will allow us to pull ratings data and even users comments if needed. This will help us to categorise the popularity of each restaurant.\n"
   ]
  },
  {
   "cell_type": "markdown",
   "metadata": {},
   "source": [
    "##### **Types of Cuisine**"
   ]
  },
  {
   "cell_type": "markdown",
   "metadata": {},
   "source": [
    "What types exist on the Singapore food scene? What are the distributions of the different types? What are the most popular types of cuisines? What type of cuisine should the new restaurant be based on primarily? \n",
    "This data will allow us to find out which type of cuisine would be the best choice to base our new restaurant on.\n"
   ]
  },
  {
   "cell_type": "markdown",
   "metadata": {},
   "source": [
    "##### **Neighbourhoods**"
   ]
  },
  {
   "cell_type": "markdown",
   "metadata": {},
   "source": [
    "This data will be used primarily for clustering and segmentation of restaurant locations for easier visualisation and also if we want to include other forms of data in future, like average population in the neighbourhoods or average salary, etc to get better results.\n"
   ]
  },
  {
   "cell_type": "markdown",
   "metadata": {},
   "source": [
    "##### **Cost of owning/leasing property**"
   ]
  },
  {
   "cell_type": "markdown",
   "metadata": {},
   "source": [
    "This data will give us cost estimates of owning or leasing property in the neighbourhoods demarcated in the neighbourhoods section. \n",
    "This will help to modulate the results from the other data sets. Cost of the property be it for leasing or owning may be a good factor to consider in the overall business / stakeholder plan."
   ]
  },
  {
   "cell_type": "code",
   "execution_count": null,
   "metadata": {},
   "outputs": [],
   "source": []
  }
 ],
 "metadata": {
  "kernelspec": {
   "display_name": "Python",
   "language": "python",
   "name": "conda-env-python-py"
  },
  "language_info": {
   "codemirror_mode": {
    "name": "ipython",
    "version": 3
   },
   "file_extension": ".py",
   "mimetype": "text/x-python",
   "name": "python",
   "nbconvert_exporter": "python",
   "pygments_lexer": "ipython3",
   "version": "3.6.10"
  }
 },
 "nbformat": 4,
 "nbformat_minor": 4
}
